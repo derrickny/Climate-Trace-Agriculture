{
 "cells": [
  {
   "cell_type": "code",
   "execution_count": 11,
   "metadata": {},
   "outputs": [],
   "source": [
    "#importing necessary libraries\n",
    "import pandas as pd\n",
    "import os \n",
    "import psycopg2\n",
    "from dotenv import load_dotenv\n",
    "\n"
   ]
  },
  {
   "cell_type": "code",
   "execution_count": 12,
   "metadata": {},
   "outputs": [],
   "source": [
    "#Directory to csv\n",
    "directory = '/Users/nyagaderrick/Developer/Climate-Trace-Agriculture/rem_data'"
   ]
  },
  {
   "cell_type": "code",
   "execution_count": 13,
   "metadata": {},
   "outputs": [
    {
     "data": {
      "text/plain": [
       "True"
      ]
     },
     "execution_count": 13,
     "metadata": {},
     "output_type": "execute_result"
    }
   ],
   "source": [
    "#load variables from .env file\n",
    "load_dotenv()"
   ]
  },
  {
   "cell_type": "code",
   "execution_count": 14,
   "metadata": {},
   "outputs": [
    {
     "name": "stdout",
     "output_type": "stream",
     "text": [
      "climate_trace_agriculture_db\n",
      "localhost\n"
     ]
    }
   ],
   "source": [
    "#Get variables from .env file\n",
    "dbname = os.getenv('DB_NAME')\n",
    "print(dbname)\n",
    "user = os.getenv('DB_USER')\n",
    "password = os.getenv('DB_PASSWORD')\n",
    "host = os.getenv('DB_HOST')\n",
    "print(host)\n",
    "port = os.getenv('DB_PORT')\n"
   ]
  },
  {
   "cell_type": "code",
   "execution_count": 15,
   "metadata": {},
   "outputs": [],
   "source": [
    "# connecting to the database\n",
    "# Connect to PostgreSQL\n",
    "conn = psycopg2.connect(\n",
    "    dbname=dbname,\n",
    "    user=user,\n",
    "    password=password,\n",
    "    host=host,\n",
    "    port=port\n",
    ")\n",
    "\n",
    "# Create a cursor object using the cursor() method \n",
    "#this method is used to execute the PostgreSQL commands in a database session.\n",
    "cursor = conn.cursor()"
   ]
  },
  {
   "cell_type": "code",
   "execution_count": 16,
   "metadata": {},
   "outputs": [
    {
     "name": "stdout",
     "output_type": "stream",
     "text": [
      "Table rice_cultivation_emissions_sources_confidence created successfully.\n",
      "Table synthetic_fertilizer_application_country_emission created successfully.\n",
      "Table manure_management_cattle_feedlot_emissions_sources_confidence created successfully.\n",
      "Table synthetic_fertilizer_application_emissions_source created successfully.\n",
      "Table manure_left_on_pasture_cattle_emissions_sources_confidence created successfully.\n",
      "Table other_agricultural_soil_emissions_country_emission created successfully.\n",
      "Table synthetic_fertilizer_application_emissions_sources_confidence created successfully.\n",
      "Table manure_management_cattle_feedlot_emissions_source created successfully.\n",
      "Table enteric_fermentation_cattle_pasture_emissions_sources_confidence created successfully.\n"
     ]
    },
    {
     "name": "stderr",
     "output_type": "stream",
     "text": [
      "/var/folders/tv/lq8c2cb553sbrv2cq02t2fhw0000gn/T/ipykernel_2262/548554192.py:10: DtypeWarning: Columns (22) have mixed types. Specify dtype option on import or set low_memory=False.\n",
      "  df = pd.read_csv(file_path)\n"
     ]
    },
    {
     "name": "stdout",
     "output_type": "stream",
     "text": [
      "Table manure_left_on_pasture_cattle_emissions_source created successfully.\n",
      "Table manure_management_other_country_emission created successfully.\n",
      "Table enteric_fermentation_other_country_emission created successfully.\n",
      "Table rice_cultivation_emissions_source created successfully.\n"
     ]
    },
    {
     "name": "stderr",
     "output_type": "stream",
     "text": [
      "/var/folders/tv/lq8c2cb553sbrv2cq02t2fhw0000gn/T/ipykernel_2262/548554192.py:10: DtypeWarning: Columns (22) have mixed types. Specify dtype option on import or set low_memory=False.\n",
      "  df = pd.read_csv(file_path)\n"
     ]
    },
    {
     "name": "stdout",
     "output_type": "stream",
     "text": [
      "Table enteric_fermentation_cattle_pasture_emissions_source created successfully.\n",
      "Table manure_left_on_pasture_cattle_country_emission created successfully.\n",
      "Table manure_management_cattle_feedlot_country_emission created successfully.\n",
      "Table enteric_fermentation_cattle_pasture_country_emission created successfully.\n",
      "Table rice_cultivation_country_emission created successfully.\n",
      "Process completed successfully.\n"
     ]
    }
   ],
   "source": [
    "try:\n",
    "    # Iterate over all files in the directory\n",
    "    for filename in os.listdir(directory):\n",
    "        if filename.endswith(\".csv\"):\n",
    "            try:\n",
    "                # Full file path\n",
    "                file_path = os.path.join(directory, filename)\n",
    "\n",
    "                # Read CSV file\n",
    "                df = pd.read_csv(file_path)\n",
    "\n",
    "                # Infer data types\n",
    "                data_types = df.dtypes\n",
    "\n",
    "                # Create table SQL\n",
    "                table_name = filename.rstrip('.csv').replace('-', '_')  # Use filename as table name\n",
    "                create_table_sql = f\"CREATE TABLE {table_name} (\"\n",
    "\n",
    "                for col, dtype in zip(df.columns, data_types):\n",
    "                    # Map pandas data types to PostgreSQL data types\n",
    "                    if dtype == 'int64':\n",
    "                        pg_type = 'INTEGER'\n",
    "                    elif dtype == 'float64':\n",
    "                        pg_type = 'FLOAT'\n",
    "                    elif dtype == 'object':\n",
    "                        pg_type = 'VARCHAR'\n",
    "                    elif dtype == 'datetime64[ns]':\n",
    "                        pg_type = 'TIMESTAMP'\n",
    "                    else:\n",
    "                        pg_type = 'VARCHAR'  # Default to VARCHAR\n",
    "\n",
    "                    create_table_sql += f\"{col} {pg_type}, \"\n",
    "\n",
    "                create_table_sql = create_table_sql.rstrip(', ') + \")\"\n",
    "\n",
    "                # Execute create table SQL\n",
    "                cursor.execute(create_table_sql)\n",
    "\n",
    "                # Insert data into the table\n",
    "                placeholders = \", \".join([\"%s\"] * len(df.columns))\n",
    "                for row in df.itertuples(index=False):\n",
    "                    cursor.execute(f\"INSERT INTO {table_name} VALUES ({placeholders})\", row)\n",
    "\n",
    "                # Commit changes for the current file\n",
    "                conn.commit()\n",
    "\n",
    "                print(f\"Table {table_name} created successfully.\")\n",
    "\n",
    "            except Exception as e:\n",
    "                # Roll back changes for the current file\n",
    "                conn.rollback()\n",
    "                print(f\"Failed to create table {table_name}. Error: {e}\")\n",
    "\n",
    "    # Close connection\n",
    "    conn.close()\n",
    "\n",
    "    print(\"Process completed successfully.\")\n",
    "\n",
    "except Exception as e:\n",
    "    print(f\"An error occurred: {e}\")"
   ]
  },
  {
   "cell_type": "code",
   "execution_count": 18,
   "metadata": {},
   "outputs": [
    {
     "name": "stdout",
     "output_type": "stream",
     "text": [
      "['rice-cultivation_emissions-sources_confidence.csv', 'synthetic-fertilizer-application_country_emissions.csv', 'cropland-fires_country_emissions.csv', '.DS_Store', 'manure-management-cattle-feedlot_emissions-sources_confidence.csv', 'cropland-fires_emissions-sources_confidence.csv', 'Data-transaction-log.csv', 'agriculture_geometries.gpkg', 'synthetic-fertilizer-application_emissions-sources.csv', 'cropland-fires_emissions-sources.csv', 'manure-left-on-pasture-cattle_emissions-sources_confidence.csv', 'ABOUT THE DATA.pdf', 'other-agricultural-soil-emissions_country_emissions.csv', 'enteric-fermentation-cattle-feedlot_emissions-sources_confidence.csv', 'synthetic-fertilizer-application_emissions-sources_confidence.csv', 'manure-management-cattle-feedlot_emissions-sources.csv', 'enteric-fermentation-cattle-pasture_emissions-sources_confidence.csv', 'manure-left-on-pasture-cattle_emissions-sources.csv', 'manure-management-other_country_emissions.csv', 'enteric-fermentation-other_country_emissions.csv', 'rice-cultivation_emissions-sources.csv', 'enteric-fermentation-cattle-pasture_emissions-sources.csv', 'enteric-fermentation-cattle-feedlot_country_emissions.csv', 'manure-left-on-pasture-cattle_country_emissions.csv', 'manure-management-cattle-feedlot_country_emissions.csv', 'enteric-fermentation-cattle-pasture_country_emissions.csv', 'rice-cultivation_country_emissions.csv', 'enteric-fermentation-cattle-feedlot_emissions-sources.csv', 'Detailed-data-schema.csv']\n"
     ]
    }
   ],
   "source": [
    "#/Users/nyagaderrick/Developer/Climate TRACE agriculture data\n",
    "dr = \"/Users/nyagaderrick/Developer/Climate TRACE agriculture data\"\n",
    "files = os.listdir(dr)\n",
    "\n",
    "print(files)"
   ]
  },
  {
   "cell_type": "code",
   "execution_count": null,
   "metadata": {},
   "outputs": [],
   "source": []
  },
  {
   "cell_type": "code",
   "execution_count": null,
   "metadata": {},
   "outputs": [],
   "source": []
  }
 ],
 "metadata": {
  "kernelspec": {
   "display_name": "tensorflow",
   "language": "python",
   "name": "python3"
  },
  "language_info": {
   "codemirror_mode": {
    "name": "ipython",
    "version": 3
   },
   "file_extension": ".py",
   "mimetype": "text/x-python",
   "name": "python",
   "nbconvert_exporter": "python",
   "pygments_lexer": "ipython3",
   "version": "3.11.8"
  }
 },
 "nbformat": 4,
 "nbformat_minor": 2
}
