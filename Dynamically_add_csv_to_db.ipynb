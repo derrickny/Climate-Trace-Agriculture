{
 "cells": [
  {
   "cell_type": "code",
   "execution_count": 1,
   "metadata": {},
   "outputs": [],
   "source": [
    "#importing necessary libraries\n",
    "import pandas as pd\n",
    "import os \n",
    "import psycopg2\n",
    "from dotenv import load_dotenv\n",
    "\n"
   ]
  },
  {
   "cell_type": "code",
   "execution_count": 2,
   "metadata": {},
   "outputs": [],
   "source": [
    "#Directory to csv\n",
    "directory = '/Users/nyagaderrick/Developer/Climate-Trace-Agriculture/rem_data'"
   ]
  },
  {
   "cell_type": "code",
   "execution_count": 3,
   "metadata": {},
   "outputs": [
    {
     "data": {
      "text/plain": [
       "True"
      ]
     },
     "execution_count": 3,
     "metadata": {},
     "output_type": "execute_result"
    }
   ],
   "source": [
    "#load variables from .env file\n",
    "load_dotenv()"
   ]
  },
  {
   "cell_type": "code",
   "execution_count": 4,
   "metadata": {},
   "outputs": [
    {
     "name": "stdout",
     "output_type": "stream",
     "text": [
      "climate_trace_agriculture_db\n",
      "localhost\n"
     ]
    }
   ],
   "source": [
    "#Get variables from .env file\n",
    "dbname = os.getenv('DB_NAME')\n",
    "print(dbname)\n",
    "user = os.getenv('DB_USER')\n",
    "password = os.getenv('DB_PASSWORD')\n",
    "host = os.getenv('DB_HOST')\n",
    "print(host)\n",
    "port = os.getenv('DB_PORT')\n"
   ]
  },
  {
   "cell_type": "code",
   "execution_count": 6,
   "metadata": {},
   "outputs": [],
   "source": [
    "# connecting to the database\n",
    "# Connect to PostgreSQL\n",
    "conn = psycopg2.connect(\n",
    "    dbname=dbname,\n",
    "    user=user,\n",
    "    password=password,\n",
    "    host=host,\n",
    "    port=port\n",
    ")\n",
    "\n",
    "# Create a cursor object using the cursor() method \n",
    "#this method is used to execute the PostgreSQL commands in a database session.\n",
    "cursor = conn.cursor()"
   ]
  },
  {
   "cell_type": "code",
   "execution_count": 9,
   "metadata": {},
   "outputs": [
    {
     "name": "stdout",
     "output_type": "stream",
     "text": [
      "Failed to create table rice_cultivation_emissions_sources_confidence. Error: current transaction is aborted, commands ignored until end of transaction block\n",
      "\n",
      "Failed to create table synthetic_fertilizer_application_country_emission. Error: not all arguments converted during string formatting\n",
      "Failed to create table manure_management_cattle_feedlot_emissions_sources_confidence. Error: not all arguments converted during string formatting\n",
      "Failed to create table synthetic_fertilizer_application_emissions_source. Error: not all arguments converted during string formatting\n",
      "Failed to create table manure_left_on_pasture_cattle_emissions_sources_confidence. Error: not all arguments converted during string formatting\n",
      "Failed to create table other_agricultural_soil_emissions_country_emission. Error: not all arguments converted during string formatting\n",
      "Failed to create table synthetic_fertilizer_application_emissions_sources_confidence. Error: not all arguments converted during string formatting\n",
      "Failed to create table manure_management_cattle_feedlot_emissions_source. Error: not all arguments converted during string formatting\n",
      "Failed to create table enteric_fermentation_cattle_pasture_emissions_sources_confidence. Error: not all arguments converted during string formatting\n"
     ]
    },
    {
     "name": "stderr",
     "output_type": "stream",
     "text": [
      "/var/folders/tv/lq8c2cb553sbrv2cq02t2fhw0000gn/T/ipykernel_2262/111216633.py:10: DtypeWarning: Columns (22) have mixed types. Specify dtype option on import or set low_memory=False.\n",
      "  df = pd.read_csv(file_path)\n"
     ]
    },
    {
     "name": "stdout",
     "output_type": "stream",
     "text": [
      "Failed to create table manure_left_on_pasture_cattle_emissions_source. Error: not all arguments converted during string formatting\n",
      "Failed to create table manure_management_other_country_emission. Error: not all arguments converted during string formatting\n",
      "Failed to create table enteric_fermentation_other_country_emission. Error: not all arguments converted during string formatting\n",
      "Failed to create table rice_cultivation_emissions_source. Error: not all arguments converted during string formatting\n"
     ]
    },
    {
     "name": "stderr",
     "output_type": "stream",
     "text": [
      "/var/folders/tv/lq8c2cb553sbrv2cq02t2fhw0000gn/T/ipykernel_2262/111216633.py:10: DtypeWarning: Columns (22) have mixed types. Specify dtype option on import or set low_memory=False.\n",
      "  df = pd.read_csv(file_path)\n"
     ]
    },
    {
     "name": "stdout",
     "output_type": "stream",
     "text": [
      "Failed to create table enteric_fermentation_cattle_pasture_emissions_source. Error: not all arguments converted during string formatting\n",
      "Failed to create table manure_left_on_pasture_cattle_country_emission. Error: not all arguments converted during string formatting\n",
      "Failed to create table manure_management_cattle_feedlot_country_emission. Error: not all arguments converted during string formatting\n",
      "Failed to create table enteric_fermentation_cattle_pasture_country_emission. Error: not all arguments converted during string formatting\n",
      "Failed to create table rice_cultivation_country_emission. Error: not all arguments converted during string formatting\n",
      "Process completed successfully.\n"
     ]
    }
   ],
   "source": [
    "try:\n",
    "    # Iterate over all files in the directory\n",
    "    for filename in os.listdir(directory):\n",
    "        if filename.endswith(\".csv\"):\n",
    "            try:\n",
    "                # Full file path\n",
    "                file_path = os.path.join(directory, filename)\n",
    "\n",
    "                # Read CSV file\n",
    "                df = pd.read_csv(file_path)\n",
    "\n",
    "                # Infer data types\n",
    "                data_types = df.dtypes\n",
    "\n",
    "                # Create table SQL\n",
    "                table_name = filename.rstrip('.csv').replace('-', '_')  # Use filename as table name\n",
    "                create_table_sql = f\"CREATE TABLE {table_name} (\"\n",
    "\n",
    "                for col, dtype in zip(df.columns, data_types):\n",
    "                    # Map pandas data types to PostgreSQL data types\n",
    "                    if dtype == 'int64':\n",
    "                        pg_type = 'INTEGER'\n",
    "                    elif dtype == 'float64':\n",
    "                        pg_type = 'FLOAT'\n",
    "                    elif dtype == 'object':\n",
    "                        pg_type = 'VARCHAR'\n",
    "                    elif dtype == 'datetime64[ns]':\n",
    "                        pg_type = 'TIMESTAMP'\n",
    "                    else:\n",
    "                        pg_type = 'VARCHAR'  # Default to VARCHAR\n",
    "\n",
    "                    create_table_sql += f\"{col} {pg_type}, \"\n",
    "\n",
    "                create_table_sql = create_table_sql.rstrip(', ') + \")\"\n",
    "\n",
    "                # Execute create table SQL\n",
    "                cursor.execute(create_table_sql)\n",
    "\n",
    "                # Insert data into the table\n",
    "                placeholders = \", \".join([\"%s\"] * len(df.columns))\n",
    "                for row in df.itertuples(index=False):\n",
    "                    cursor.execute(f\"INSERT INTO {table_name} VALUES ({placeholders})\", row)\n",
    "\n",
    "                # Commit changes for the current file\n",
    "                conn.commit()\n",
    "\n",
    "                print(f\"Table {table_name} created successfully.\")\n",
    "\n",
    "            except Exception as e:\n",
    "                # Roll back changes for the current file\n",
    "                conn.rollback()\n",
    "                print(f\"Failed to create table {table_name}. Error: {e}\")\n",
    "\n",
    "    # Close connection\n",
    "    conn.close()\n",
    "\n",
    "    print(\"Process completed successfully.\")\n",
    "\n",
    "except Exception as e:\n",
    "    print(f\"An error occurred: {e}\")"
   ]
  },
  {
   "cell_type": "code",
   "execution_count": null,
   "metadata": {},
   "outputs": [],
   "source": []
  },
  {
   "cell_type": "code",
   "execution_count": null,
   "metadata": {},
   "outputs": [],
   "source": []
  }
 ],
 "metadata": {
  "kernelspec": {
   "display_name": "tensorflow",
   "language": "python",
   "name": "python3"
  },
  "language_info": {
   "codemirror_mode": {
    "name": "ipython",
    "version": 3
   },
   "file_extension": ".py",
   "mimetype": "text/x-python",
   "name": "python",
   "nbconvert_exporter": "python",
   "pygments_lexer": "ipython3",
   "version": "3.11.8"
  }
 },
 "nbformat": 4,
 "nbformat_minor": 2
}
